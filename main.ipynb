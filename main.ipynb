{
 "cells": [
  {
   "cell_type": "code",
   "execution_count": 2,
   "metadata": {},
   "outputs": [
    {
     "name": "stdout",
     "output_type": "stream",
     "text": [
      "Select the operation 1.PUSH 2.POP 3.QUIT\n",
      "['1']\n",
      "Select the operation 1.PUSH 2.POP 3.QUIT\n",
      "Removed element is:  1\n",
      "[]\n",
      "Select the operation 1.PUSH 2.POP 3.QUIT\n",
      "['1']\n",
      "Select the operation 1.PUSH 2.POP 3.QUIT\n",
      "['1', '2']\n",
      "Select the operation 1.PUSH 2.POP 3.QUIT\n",
      "['1', '2', '3']\n",
      "Select the operation 1.PUSH 2.POP 3.QUIT\n",
      "['1', '2', '3', '4']\n",
      "Select the operation 1.PUSH 2.POP 3.QUIT\n",
      "['1', '2', '3', '4', '5']\n",
      "Select the operation 1.PUSH 2.POP 3.QUIT\n",
      "list is full!!!\n",
      "Select the operation 1.PUSH 2.POP 3.QUIT\n",
      "Removed element is:  5\n",
      "['1', '2', '3', '4']\n",
      "Select the operation 1.PUSH 2.POP 3.QUIT\n",
      "Removed element is:  4\n",
      "['1', '2', '3']\n",
      "Select the operation 1.PUSH 2.POP 3.QUIT\n",
      "Removed element is:  3\n",
      "['1', '2']\n",
      "Select the operation 1.PUSH 2.POP 3.QUIT\n",
      "Removed element is:  2\n",
      "['1']\n",
      "Select the operation 1.PUSH 2.POP 3.QUIT\n",
      "Removed element is:  1\n",
      "[]\n",
      "Select the operation 1.PUSH 2.POP 3.QUIT\n"
     ]
    }
   ],
   "source": [
    "stack = []\n",
    "def push():\n",
    "    if len(stack) == size:\n",
    "        print(\"list is full!!!\")\n",
    "    else:\n",
    "        element = input(\"Enter the elements : \")\n",
    "        stack.append(element)\n",
    "        print(stack)\n",
    "def pop():\n",
    "    if not stack:\n",
    "        print(\"Stack is empty\")\n",
    "    else:\n",
    "        e=stack. pop()\n",
    "        print(\"Removed element is: \",e)\n",
    "        print(stack)\n",
    "\n",
    "size = int(input(\"Enter the limit for stack: \"))\n",
    "while True:\n",
    "    print(\"Select the operation 1.PUSH 2.POP 3.QUIT\")\n",
    "    choice=int(input())\n",
    "    if choice==1:\n",
    "        push()\n",
    "    elif choice==2:\n",
    "        pop()\n",
    "    elif choice==3:\n",
    "        break\n",
    "    else:\n",
    "        print(\"enter the correct operation\")"
   ]
  },
  {
   "cell_type": "code",
   "execution_count": null,
   "metadata": {},
   "outputs": [],
   "source": []
  }
 ],
 "metadata": {
  "kernelspec": {
   "display_name": "Python 3",
   "language": "python",
   "name": "python3"
  },
  "language_info": {
   "codemirror_mode": {
    "name": "ipython",
    "version": 3
   },
   "file_extension": ".py",
   "mimetype": "text/x-python",
   "name": "python",
   "nbconvert_exporter": "python",
   "pygments_lexer": "ipython3",
   "version": "3.11.0"
  },
  "orig_nbformat": 4
 },
 "nbformat": 4,
 "nbformat_minor": 2
}
